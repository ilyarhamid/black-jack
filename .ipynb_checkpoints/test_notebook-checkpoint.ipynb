{
 "cells": [
  {
   "cell_type": "code",
   "execution_count": null,
   "metadata": {},
   "outputs": [],
   "source": [
    "%load_ext autoreload\n",
    "%autoreload 2\n",
    "from table.game import Game\n",
    "import pandas as pd\n",
    "import time"
   ]
  },
  {
   "cell_type": "code",
   "execution_count": null,
   "metadata": {},
   "outputs": [],
   "source": [
    "n_game = 100\n",
    "n_pair =8\n",
    "n_player = 3\n",
    "rule = \"H17\"\n",
    "betting = \"flat\"\n",
    "black_jack_pay = 3/2\n",
    "shoe_pct = 0.3\n",
    "log = False"
   ]
  },
  {
   "cell_type": "code",
   "execution_count": null,
   "metadata": {},
   "outputs": [],
   "source": [
    "game = Game(n_pair=n_pair,\n",
    "             n_player=n_player,\n",
    "             rule=rule,\n",
    "             betting=betting,\n",
    "             black_jack_pay=black_jack_pay,\n",
    "             shoe_pct=shoe_pct,\n",
    "             log=log)"
   ]
  },
  {
   "cell_type": "code",
   "execution_count": null,
   "metadata": {},
   "outputs": [],
   "source": [
    "dic = {\"n\": [], \"money\": []}\n",
    "t_prev = time.time()\n",
    "for i in range(1,100001):\n",
    "    game.run()\n",
    "    if i % 10000 == 0:\n",
    "        print(i, round(time.time() - t_prev, 2), game.key_player.money)\n",
    "        t_prev = time.time()\n",
    "    if i % 100 == 0:\n",
    "        dic[\"n\"].append(i)\n",
    "        dic[\"money\"].append(game.key_player.money)"
   ]
  },
  {
   "cell_type": "code",
   "execution_count": null,
   "metadata": {},
   "outputs": [],
   "source": [
    "df = pd.DataFrame(dic)"
   ]
  },
  {
   "cell_type": "code",
   "execution_count": null,
   "metadata": {},
   "outputs": [],
   "source": [
    "df[\"money\"].plot()"
   ]
  }
 ],
 "metadata": {
  "kernelspec": {
   "display_name": "Python 3",
   "language": "python",
   "name": "python3"
  },
  "language_info": {
   "codemirror_mode": {
    "name": "ipython",
    "version": 3
   },
   "file_extension": ".py",
   "mimetype": "text/x-python",
   "name": "python",
   "nbconvert_exporter": "python",
   "pygments_lexer": "ipython3",
   "version": "3.8.3"
  }
 },
 "nbformat": 4,
 "nbformat_minor": 4
}
