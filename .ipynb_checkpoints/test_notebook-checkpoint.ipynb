{
 "cells": [
  {
   "cell_type": "code",
   "execution_count": 8,
   "metadata": {},
   "outputs": [
    {
     "name": "stdout",
     "output_type": "stream",
     "text": [
      "The autoreload extension is already loaded. To reload it, use:\n",
      "  %reload_ext autoreload\n"
     ]
    }
   ],
   "source": [
    "%load_ext autoreload\n",
    "%autoreload 2\n",
    "from card_deck.deck import Deck\n",
    "from player.player import Hand"
   ]
  },
  {
   "cell_type": "code",
   "execution_count": 9,
   "metadata": {},
   "outputs": [
    {
     "name": "stdout",
     "output_type": "stream",
     "text": [
      "['Q', 'K', '2'] (22, 'Hard')\n",
      "['4', '10', '3'] (17, 'Hard')\n",
      "['2', 'Q', '7'] (19, 'Hard')\n",
      "['9', 'Q', 'A'] (20, 'Soft')\n",
      "['K', '3', '7'] (20, 'Hard')\n",
      "['K', '6', 'Q'] (26, 'Hard')\n",
      "['9', '9', 'A'] (19, 'Soft')\n",
      "['J', '3', '3'] (16, 'Hard')\n",
      "['4', 'Q', '5'] (19, 'Hard')\n",
      "['A', '2', '7'] (20, 'Soft')\n",
      "['7', 'A', '2'] (20, 'Soft')\n",
      "['6', '9', '5'] (20, 'Hard')\n",
      "['K', '7', 'Q'] (27, 'Hard')\n",
      "['6', '5', 'K'] (21, 'Hard')\n",
      "['6', 'K', '2'] (18, 'Hard')\n",
      "['3', '9', '8'] (20, 'Hard')\n",
      "['4', '2', 'K'] (16, 'Hard')\n",
      "['6', 'K', 'K'] (26, 'Hard')\n",
      "['8', '3', '8'] (19, 'Hard')\n",
      "['6', '2', 'Q'] (18, 'Hard')\n",
      "['6', '8', '10'] (24, 'Hard')\n",
      "['3', '10', '4'] (17, 'Hard')\n",
      "['2', 'K', '8'] (20, 'Hard')\n",
      "['J', 'A', '8'] (19, 'Soft')\n",
      "['7', 'A', '3'] (21, 'Soft')\n",
      "['Q', '5', 'A'] (16, 'Soft')\n",
      "['2', '2', '2'] (6, 'Hard')\n",
      "['8', '8', '9'] (25, 'Hard')\n",
      "['K', '7', '4'] (21, 'Hard')\n",
      "['10', '3', '5'] (18, 'Hard')\n",
      "['10', '6', '4'] (20, 'Hard')\n",
      "['K', '8', '5'] (23, 'Hard')\n",
      "['3', '6', 'J'] (19, 'Hard')\n",
      "['5', 'A', '7'] (13, 'Soft')\n",
      "['3', '10', '7'] (20, 'Hard')\n",
      "['4', '9', 'Q'] (23, 'Hard')\n",
      "['K', 'J', 'K'] (30, 'Hard')\n",
      "['6', 'K', '6'] (22, 'Hard')\n",
      "['8', '10', 'J'] (28, 'Hard')\n",
      "['3', '9', 'K'] (22, 'Hard')\n",
      "['6', '3', '5'] (14, 'Hard')\n",
      "['A', '5', '4'] (20, 'Soft')\n",
      "['4', '10', 'A'] (15, 'Soft')\n",
      "['3', '10', '6'] (19, 'Hard')\n",
      "['10', '8', '7'] (25, 'Hard')\n",
      "['6', '6', '4'] (16, 'Hard')\n",
      "['4', '7', 'J'] (21, 'Hard')\n",
      "['9', '7', 'K'] (26, 'Hard')\n",
      "['K', '2', '6'] (18, 'Hard')\n",
      "['7', 'K', '5'] (22, 'Hard')\n",
      "['9', 'Q', '5'] (24, 'Hard')\n",
      "['2', 'K', 'Q'] (22, 'Hard')\n",
      "['8', '7', '5'] (20, 'Hard')\n",
      "['A', '3', '9'] (13, 'Soft')\n",
      "['8', '9', 'J'] (27, 'Hard')\n",
      "['A', '6', 'J'] (17, 'Soft')\n",
      "['7', '7', '4'] (18, 'Hard')\n",
      "['A', '6', '8'] (15, 'Soft')\n",
      "['10', 'J', '8'] (28, 'Hard')\n",
      "['J', 'J', '10'] (30, 'Hard')\n",
      "['6', 'K', '5'] (21, 'Hard')\n",
      "['A', 'A', '8'] (20, 'Soft')\n",
      "['9', 'K', '2'] (21, 'Hard')\n",
      "['K', '5', '5'] (20, 'Hard')\n",
      "['10', '7', 'K'] (27, 'Hard')\n",
      "['8', '3', '5'] (16, 'Hard')\n",
      "['J', '9', 'Q'] (29, 'Hard')\n",
      "['A', '9', 'Q'] (20, 'Soft')\n",
      "['8', 'K', '3'] (21, 'Hard')\n",
      "['6', '6', '2'] (14, 'Hard')\n",
      "['Q', '9', '5'] (24, 'Hard')\n",
      "['10', '7', '6'] (23, 'Hard')\n",
      "['5', 'K', 'Q'] (25, 'Hard')\n",
      "['5', '4', '5'] (14, 'Hard')\n",
      "['A', '10', '6'] (17, 'Soft')\n",
      "['2', 'K', '9'] (21, 'Hard')\n",
      "['Q', '8', '6'] (24, 'Hard')\n",
      "['3', '3', 'Q'] (16, 'Hard')\n",
      "['A', '2', 'J'] (13, 'Soft')\n",
      "['3', '9', '8'] (20, 'Hard')\n",
      "['6', 'Q', '2'] (18, 'Hard')\n",
      "['Q', 'J', 'A'] (21, 'Soft')\n",
      "['10', '8', '7'] (25, 'Hard')\n",
      "['2', 'J', '10'] (22, 'Hard')\n",
      "['9', '3', '7'] (19, 'Hard')\n",
      "['10', '9', 'Q'] (29, 'Hard')\n",
      "['10', 'K', 'J'] (30, 'Hard')\n",
      "['Q', '3', '7'] (20, 'Hard')\n",
      "['9', 'Q', '6'] (25, 'Hard')\n",
      "['5', '8', '4'] (17, 'Hard')\n",
      "['6', 'A', '9'] (16, 'Soft')\n",
      "['3', '2', '8'] (13, 'Hard')\n",
      "['2', '4', '9'] (15, 'Hard')\n",
      "['5', '8', '9'] (22, 'Hard')\n",
      "['K', '9', '2'] (21, 'Hard')\n",
      "['10', '6', 'J'] (26, 'Hard')\n",
      "['3', '6', 'Q'] (19, 'Hard')\n",
      "['9', 'J', '2'] (21, 'Hard')\n",
      "['8', '7', '8'] (23, 'Hard')\n",
      "['3', '9', 'A'] (13, 'Soft')\n"
     ]
    }
   ],
   "source": [
    "deck = Deck(10)\n",
    "deck.shuffle()\n",
    "for i in range(100):\n",
    "    clist = []\n",
    "    for i in range(3):\n",
    "        clist.append(deck.deal())\n",
    "    hand = Hand(clist)\n",
    "    print([c.value for c in hand.cards], hand.best_value())"
   ]
  }
 ],
 "metadata": {
  "kernelspec": {
   "display_name": "Python 3",
   "language": "python",
   "name": "python3"
  },
  "language_info": {
   "codemirror_mode": {
    "name": "ipython",
    "version": 3
   },
   "file_extension": ".py",
   "mimetype": "text/x-python",
   "name": "python",
   "nbconvert_exporter": "python",
   "pygments_lexer": "ipython3",
   "version": "3.8.3"
  }
 },
 "nbformat": 4,
 "nbformat_minor": 4
}
