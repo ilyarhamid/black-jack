{
 "cells": [
  {
   "cell_type": "code",
   "execution_count": 1,
   "metadata": {},
   "outputs": [],
   "source": [
    "%load_ext autoreload\n",
    "%autoreload 2\n",
    "from card_deck.deck import Deck, Card\n",
    "from player.player import Hand, Player\n",
    "from table.game import Game\n",
    "import pandas as pd\n",
    "import time"
   ]
  },
  {
   "cell_type": "code",
   "execution_count": 2,
   "metadata": {},
   "outputs": [],
   "source": [
    "dealer = Player()\n",
    "k = Player()\n",
    "players = [Player(), Player(), Player()]\n",
    "deck = Deck(8)\n",
    "deck.shuffle()"
   ]
  },
  {
   "cell_type": "code",
   "execution_count": 3,
   "metadata": {},
   "outputs": [
    {
     "name": "stdout",
     "output_type": "stream",
     "text": [
      "Player Round...\n",
      "----------------- Key Player Turn ---------------\n",
      "Player Hands Split!\n",
      "Hand 1\n",
      "Stand: ['J', '9']\n",
      "----------------- Player 1 Turn ---------------\n",
      "Player Hands Split!\n",
      "Hand 1\n",
      "Hit: ['3', '2', '7']\n",
      "Hit: ['3', '2', '7', 'J']\n",
      "Bust: ['3', '2', '7', 'J']\n",
      "----------------- Player 2 Turn ---------------\n",
      "Player Hands Split!\n",
      "Hand 1\n",
      "Stand: ['6', '10']\n",
      "----------------- Player 3 Turn ---------------\n",
      "Player Hands Split!\n",
      "Hand 1\n",
      "Double: ['6', '4', 'A']\n",
      "Dealer Round...\n",
      "Dealer Hit!\n",
      "['3', '5', 'J']\n",
      "Dealer Stand\n",
      "['3', '5', 'J']\n",
      "Wrapping Up...\n",
      "0.0020148754119873047\n"
     ]
    }
   ],
   "source": [
    "t1 = time.time()\n",
    "g = Game(dealer, players, k, deck)\n",
    "g.run()\n",
    "print(time.time()-t1)"
   ]
  }
 ],
 "metadata": {
  "kernelspec": {
   "display_name": "Python 3",
   "language": "python",
   "name": "python3"
  },
  "language_info": {
   "codemirror_mode": {
    "name": "ipython",
    "version": 3
   },
   "file_extension": ".py",
   "mimetype": "text/x-python",
   "name": "python",
   "nbconvert_exporter": "python",
   "pygments_lexer": "ipython3",
   "version": "3.8.3"
  }
 },
 "nbformat": 4,
 "nbformat_minor": 4
}
