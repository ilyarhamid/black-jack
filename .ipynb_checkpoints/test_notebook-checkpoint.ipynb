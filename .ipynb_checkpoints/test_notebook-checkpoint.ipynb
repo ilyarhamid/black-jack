{
 "cells": [
  {
   "cell_type": "code",
   "execution_count": 11,
   "metadata": {},
   "outputs": [
    {
     "name": "stdout",
     "output_type": "stream",
     "text": [
      "The autoreload extension is already loaded. To reload it, use:\n",
      "  %reload_ext autoreload\n"
     ]
    }
   ],
   "source": [
    "%load_ext autoreload\n",
    "%autoreload 2\n",
    "from table.table import Table"
   ]
  },
  {
   "cell_type": "code",
   "execution_count": 12,
   "metadata": {},
   "outputs": [],
   "source": [
    "n_game = 100\n",
    "n_pair =8\n",
    "n_player = 3\n",
    "rule = \"H17\"\n",
    "betting = \"flat\"\n",
    "black_jack_pay = 3/2\n",
    "shoe_pct = 0.3\n",
    "log = False"
   ]
  },
  {
   "cell_type": "code",
   "execution_count": 13,
   "metadata": {},
   "outputs": [],
   "source": [
    "table = Table(n_game=n_game, \n",
    "              n_pair=n_pair,\n",
    "              n_player=n_player,\n",
    "              rule=rule,\n",
    "              betting=betting,\n",
    "              black_jack_pay=black_jack_pay,\n",
    "              shoe_pct=shoe_pct,\n",
    "              log=log)"
   ]
  },
  {
   "cell_type": "code",
   "execution_count": 14,
   "metadata": {},
   "outputs": [],
   "source": [
    "table.run_simulation()"
   ]
  }
 ],
 "metadata": {
  "kernelspec": {
   "display_name": "Python 3",
   "language": "python",
   "name": "python3"
  },
  "language_info": {
   "codemirror_mode": {
    "name": "ipython",
    "version": 3
   },
   "file_extension": ".py",
   "mimetype": "text/x-python",
   "name": "python",
   "nbconvert_exporter": "python",
   "pygments_lexer": "ipython3",
   "version": "3.8.3"
  }
 },
 "nbformat": 4,
 "nbformat_minor": 4
}
